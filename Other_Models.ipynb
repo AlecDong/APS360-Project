{
  "cells": [
    {
      "cell_type": "code",
      "execution_count": null,
      "metadata": {
        "colab": {
          "base_uri": "https://localhost:8080/"
        },
        "id": "eu8ipDOgI0XV",
        "outputId": "7a11eeea-48a6-4533-c8f7-06150331f8ff"
      },
      "outputs": [
        {
          "output_type": "stream",
          "name": "stdout",
          "text": [
            "Mounted at /content/drive\n"
          ]
        }
      ],
      "source": [
        "from google.colab import drive \n",
        "drive.mount('/content/drive')"
      ]
    },
    {
      "cell_type": "markdown",
      "source": [
        "# **Dataset Preperation**"
      ],
      "metadata": {
        "id": "9USq3iLEXyeH"
      }
    },
    {
      "cell_type": "code",
      "execution_count": null,
      "metadata": {
        "id": "BZrMn55pJGUA"
      },
      "outputs": [],
      "source": [
        "import torch.nn.functional as F\n",
        "import torch\n",
        "from torch.utils.data import DataLoader, Dataset, ConcatDataset\n",
        "import pandas as pd\n",
        "import matplotlib.pyplot as plt\n",
        "import torchvision.transforms as transforms\n",
        "import numpy as np\n",
        "import os\n",
        "import torchvision\n",
        "from tqdm import tqdm\n",
        "from torchvision import datasets, models, transforms \n",
        "from PIL import Image\n",
        "\n",
        "#vgg16 = torchvision.models.vgg16(pretrained=True)\n",
        "\n",
        "class HARDataset(Dataset):\n",
        "    \"\"\"\n",
        "    Custom dataset for HAR images that returns transformed image array and corresponding class\n",
        "    \"\"\"\n",
        "    \n",
        "    def __init__(self, data, img_dir, transform=None):\n",
        "        \"\"\"\n",
        "        Inputs:\n",
        "            data (list): 2D list in the form of [[class, file_name]]\n",
        "            img_dir (String): directory of the folder with all the images\n",
        "            transform (torchvision.transforms): transformation to be applied to images\n",
        "        \"\"\"\n",
        "        self.data = np.array(data)\n",
        "        self.img_dir = img_dir\n",
        "        self.transform = transform\n",
        "\n",
        "    def __len__(self):\n",
        "        return len(self.data)\n",
        "    \n",
        "    def __getitem__(self, idx):\n",
        "        if torch.is_tensor(idx):\n",
        "            idx = idx.tolist()\n",
        "        \n",
        "        image_name = os.path.join(self.img_dir, self.data[idx, 1])\n",
        "        img_class = int(self.data[idx, 0])\n",
        "        image = plt.imread(image_name)\n",
        "        if self.transform:\n",
        "            image = self.transform(np.array(image))\n",
        "        \n",
        "        img_one_hot = torch.zeros(15)\n",
        "        img_one_hot[img_class] = 1\n",
        "        sample = {'image': image, 'img_class': img_one_hot}\n",
        "        return sample\n",
        "\n",
        "def filename_loader():\n",
        "    \"\"\"\n",
        "    Helper function that loads image file name and corresponding class from 'Human Action Recognition' folder\n",
        "    \"\"\"\n",
        "    train = pd.read_csv('/content/drive/My Drive/Human Action Recognition/Training_set.csv')\n",
        "\n",
        "    # one-hot encoding not needed for nn.CrossEntropyLoss()(x,y)\n",
        "    # y is the index for the class (0 to 14) and x is the output from the model without sigmoid (1x15 tensor)\n",
        "    classes = {\n",
        "        \"sitting\":0,\n",
        "        \"using_laptop\":1,\n",
        "        \"hugging\":2,\n",
        "        \"sleeping\":3,\n",
        "        \"drinking\":4,\n",
        "        \"clapping\":5,\n",
        "        \"dancing\":6,\n",
        "        \"cycling\":7,\n",
        "        \"calling\":8,\n",
        "        \"laughing\":9,\n",
        "        \"eating\":10,\n",
        "        \"fighting\":11,\n",
        "        \"listening_to_music\":12,\n",
        "        \"running\":13,\n",
        "        \"texting\":14,\n",
        "    }\n",
        "    images = {\n",
        "        0:[],\n",
        "        1:[],\n",
        "        2:[],\n",
        "        3:[],\n",
        "        4:[],\n",
        "        5:[],\n",
        "        6:[],\n",
        "        7:[],\n",
        "        8:[],\n",
        "        9:[],\n",
        "        10:[],\n",
        "        11:[],\n",
        "        12:[],\n",
        "        13:[],\n",
        "        14:[]\n",
        "    }\n",
        "    train_images = []\n",
        "    val_images = []\n",
        "\n",
        "    for _, data in train.iterrows():\n",
        "        img_class = classes[data[1]]\n",
        "        images[img_class].append([img_class, data[0]])\n",
        "    \n",
        "    for img_class, imgs in images.items():\n",
        "        train_split = int(len(imgs) * 0.8) # 80/20 training/validation split for each class\n",
        "        train_images += imgs[:train_split]\n",
        "        val_images += imgs[train_split:]\n",
        "\n",
        "    return train_images, val_images\n",
        "\n",
        "def data_loader(batch_size=64, shuffle=True, num_workers=0):\n",
        "    \"\"\"\n",
        "    Returns DataLoader objects for train and validation data\n",
        "    \"\"\"\n",
        "    train_images, val_images = filename_loader()\n",
        "\n",
        "    # normalize the pixel values to between 0 and 1 and crop to same size for DataLoader to work\n",
        "    img_dir = '/content/drive/My Drive/Human Action Recognition/train'\n",
        "    \n",
        "    transform = transforms.Compose([transforms.ToTensor(), \n",
        "                                    transforms.Resize((224,224)),\n",
        "                                    transforms.CenterCrop(224),\n",
        "                                    transforms.Normalize(mean=[0.485, 0.456, 0.406], std=[0.229, 0.224, 0.225])])\n",
        "    # Resize and crop images into size 224 x 224\n",
        "\n",
        "    val_dataset = HARDataset(data=val_images, img_dir=img_dir, transform=transform)\n",
        "    train_dataset = HARDataset(data=train_images, img_dir=img_dir, transform=transform)\n",
        "\n",
        "    val_loader = DataLoader(val_dataset, batch_size=batch_size, shuffle=shuffle, num_workers=num_workers)\n",
        "    train_loader = DataLoader(train_dataset, batch_size=batch_size, shuffle=shuffle, num_workers=num_workers)\n",
        "    return train_loader, val_loader"
      ]
    },
    {
      "cell_type": "markdown",
      "source": [
        "# **Training**"
      ],
      "metadata": {
        "id": "GqREgTUJX6LU"
      }
    },
    {
      "cell_type": "code",
      "execution_count": null,
      "metadata": {
        "id": "kAfowizNRy8l"
      },
      "outputs": [],
      "source": [
        "#from preprocessing import data_loader\n",
        "#from model import CNN\n",
        "import torch\n",
        "import torch.nn as nn\n",
        "import torch.optim as optim\n",
        "import numpy as np\n",
        "import matplotlib.pyplot as plt\n",
        "from tqdm import tqdm\n",
        "\n",
        "\n",
        "def train(net, train_loader, val_loader, batch_size=32, lr=0.001, num_epochs=30):\n",
        "    # Fixed PyTorch random seed for reproducible result\n",
        "    torch.manual_seed(0)\n",
        "\n",
        "    if torch.cuda.is_available():\n",
        "        net = net.cuda()\n",
        "\n",
        "    # cross entropy loss function and adaptive moment estimation optimizer\n",
        "    criterion = nn.CrossEntropyLoss()\n",
        "    optimizer = optim.AdamW(net.parameters(), lr = lr, weight_decay=0.1)\n",
        "\n",
        "    # softmax for predictions\n",
        "    softmax = nn.Softmax(dim = 1)\n",
        "    \n",
        "    # initialize error and loss history\n",
        "    train_err = np.zeros(num_epochs)\n",
        "    train_loss = np.zeros(num_epochs)\n",
        "    val_err = np.zeros(num_epochs)\n",
        "    val_loss = np.zeros(num_epochs)\n",
        "\n",
        "    for epoch in tqdm(range(num_epochs)):\n",
        "        total_train_loss = 0.0\n",
        "        total_train_err = 0.0\n",
        "        train_iters = 0\n",
        "\n",
        "        total_val_loss = 0.0\n",
        "        total_val_err = 0.0\n",
        "        val_iters = 0\n",
        "        \n",
        "        train_batches = 0\n",
        "        net.train()\n",
        "        for batch in train_loader:\n",
        "            train_batches += 1\n",
        "            imgs, labels = batch.values()\n",
        "            if torch.cuda.is_available():\n",
        "                imgs = imgs.cuda()\n",
        "                labels = labels.cuda()\n",
        "            optimizer.zero_grad()\n",
        "            outputs = net(imgs)\n",
        "            loss = criterion(outputs, labels)\n",
        "            loss.backward()\n",
        "            optimizer.step()\n",
        "\n",
        "            pred = softmax(outputs)\n",
        "            # find error and loss for training data\n",
        "            total_train_err += (np.argmax(pred.detach().cpu(), 1) != np.argmax(labels.cpu(), 1)).sum().item()\n",
        "            total_train_loss += loss.item()\n",
        "            train_iters += len(labels)\n",
        "\n",
        "        val_batches = 0\n",
        "        net.eval()\n",
        "        for batch in val_loader:\n",
        "            val_batches += 1\n",
        "            imgs, labels = batch.values()\n",
        "            if torch.cuda.is_available():\n",
        "                imgs = imgs.cuda()\n",
        "                labels = labels.cuda()\n",
        "            outputs = net(imgs)\n",
        "            loss = criterion(outputs, labels)\n",
        "\n",
        "            pred = softmax(outputs)\n",
        "\n",
        "            # find error and loss for training data\n",
        "            total_val_err += (np.argmax(pred.detach().cpu(), 1) != np.argmax(labels.cpu(), 1)).sum().item()\n",
        "            total_val_loss += loss.item()\n",
        "            val_iters += len(labels)\n",
        "\n",
        "        # record the average error (per iteration) and loss (per batch) for each epoch\n",
        "        train_err[epoch] = total_train_err / train_iters\n",
        "        train_loss[epoch] = total_train_loss / train_batches\n",
        "        val_err[epoch] = total_val_err / val_iters\n",
        "        val_loss[epoch] = total_val_loss / val_batches\n",
        "        print(f\"Epoch {epoch}: Train err: {train_err[epoch]} Val err: {val_err[epoch]} Train loss: {train_loss[epoch]} Val loss: {val_loss[epoch]}\")\n",
        "        # save model\n",
        "        model_path = \"/content/drive/My Drive/Human Action Recognition/vgg_model/bs{}_lr{}_epoch{}\".format(batch_size,\n",
        "                                              lr,\n",
        "                                              epoch)\n",
        "        torch.save(net.state_dict(), model_path)\n",
        "    return train_err, train_loss, val_err, val_loss"
      ]
    },
    {
      "cell_type": "markdown",
      "source": [
        "# **Evaluate performance (validation)**"
      ],
      "metadata": {
        "id": "C_R75avnYB1b"
      }
    },
    {
      "cell_type": "code",
      "execution_count": null,
      "metadata": {
        "id": "XHT1QSxCC-Yl"
      },
      "outputs": [],
      "source": [
        "def performance_per_class(net):\n",
        "    net.eval()\n",
        "    _, val_loader = data_loader(batch_size=1)\n",
        "    errors = {\n",
        "        0:0,\n",
        "        1:0,\n",
        "        2:0,\n",
        "        3:0,\n",
        "        4:0,\n",
        "        5:0,\n",
        "        6:0,\n",
        "        7:0,\n",
        "        8:0,\n",
        "        9:0,\n",
        "        10:0,\n",
        "        11:0,\n",
        "        12:0,\n",
        "        13:0,\n",
        "        14:0,\n",
        "    }\n",
        "    total = {\n",
        "        0:0,\n",
        "        1:0,\n",
        "        2:0,\n",
        "        3:0,\n",
        "        4:0,\n",
        "        5:0,\n",
        "        6:0,\n",
        "        7:0,\n",
        "        8:0,\n",
        "        9:0,\n",
        "        10:0,\n",
        "        11:0,\n",
        "        12:0,\n",
        "        13:0,\n",
        "        14:0,\n",
        "    }\n",
        "    wrong_guesses = {\n",
        "        0:0,\n",
        "        1:0,\n",
        "        2:0,\n",
        "        3:0,\n",
        "        4:0,\n",
        "        5:0,\n",
        "        6:0,\n",
        "        7:0,\n",
        "        8:0,\n",
        "        9:0,\n",
        "        10:0,\n",
        "        11:0,\n",
        "        12:0,\n",
        "        13:0,\n",
        "        14:0,\n",
        "    }\n",
        "    guesses = {\n",
        "        0:0,\n",
        "        1:0,\n",
        "        2:0,\n",
        "        3:0,\n",
        "        4:0,\n",
        "        5:0,\n",
        "        6:0,\n",
        "        7:0,\n",
        "        8:0,\n",
        "        9:0,\n",
        "        10:0,\n",
        "        11:0,\n",
        "        12:0,\n",
        "        13:0,\n",
        "        14:0,\n",
        "    }\n",
        "    softmax = nn.Softmax(dim = 1)\n",
        "    for batch in val_loader:\n",
        "        img, label = batch.values()\n",
        "        output = softmax(net(img))\n",
        "        pred = np.argmax(output.detach()).item()\n",
        "        truth = np.argmax(label).item()\n",
        "        if pred != truth:\n",
        "            errors[truth] += 1\n",
        "            wrong_guesses[pred] += 1\n",
        "        total[truth] += 1\n",
        "        guesses[pred] += 1\n",
        "    for i in range(15):\n",
        "        wrong_guesses[i] /= guesses[i]\n",
        "        errors[i] /= total[i]\n",
        "    return errors, wrong_guesses, guesses"
      ]
    },
    {
      "cell_type": "markdown",
      "source": [
        "# **Evaluate performance (test)**"
      ],
      "metadata": {
        "id": "e-QS6HWyYK6w"
      }
    },
    {
      "cell_type": "code",
      "source": [
        "def test_filename_loader():\n",
        "    \"\"\"\n",
        "    Helper function that loads image file name and corresponding class from 'Human Action Recognition' folder\n",
        "    \"\"\"\n",
        "    test = pd.read_csv('/content/drive/My Drive/Human Action Recognition/Testing_set.csv')\n",
        "\n",
        "    # one-hot encoding not needed for nn.CrossEntropyLoss()(x,y)\n",
        "    # y is the index for the class (0 to 14) and x is the output from the model without sigmoid (1x15 tensor)\n",
        "    classes = {\n",
        "        \"sitting\":0,\n",
        "        \"using_laptop\":1,\n",
        "        \"hugging\":2,\n",
        "        \"sleeping\":3,\n",
        "        \"drinking\":4,\n",
        "        \"clapping\":5,\n",
        "        \"dancing\":6,\n",
        "        \"cycling\":7,\n",
        "        \"calling\":8,\n",
        "        \"laughing\":9,\n",
        "        \"eating\":10,\n",
        "        \"fighting\":11,\n",
        "        \"listening_to_music\":12,\n",
        "        \"running\":13,\n",
        "        \"texting\":14,\n",
        "    }\n",
        "    images = {\n",
        "        0:[],\n",
        "        1:[],\n",
        "        2:[],\n",
        "        3:[],\n",
        "        4:[],\n",
        "        5:[],\n",
        "        6:[],\n",
        "        7:[],\n",
        "        8:[],\n",
        "        9:[],\n",
        "        10:[],\n",
        "        11:[],\n",
        "        12:[],\n",
        "        13:[],\n",
        "        14:[]\n",
        "    }\n",
        "    test_images = []\n",
        "\n",
        "    for _, data in test.iterrows():\n",
        "        if (data[1] in classes.keys()):\n",
        "            img_class = classes[data[1]]\n",
        "            images[img_class].append([img_class, data[0]])\n",
        "    \n",
        "    for imgs in images.values():\n",
        "        test_images += imgs\n",
        "\n",
        "    return test_images\n",
        "\n",
        "def test_data_loader(batch_size=64, shuffle=True, num_workers=0):\n",
        "    \"\"\"\n",
        "    Returns DataLoader objects for train and validation data\n",
        "    \"\"\"\n",
        "    test_images = test_filename_loader()\n",
        "\n",
        "    # normalize the pixel values to between 0 and 1 and crop to same size for DataLoader to work\n",
        "    transform = transforms.Compose([transforms.ToTensor(), transforms.Resize((224, 224)), transforms.FiveCrop(150), transforms.Lambda(lambda crops: torch.stack([crop for crop in crops])), transforms.Resize((224, 224))])\n",
        "    img_dir = '/content/drive/My Drive/Human Action Recognition/test'\n",
        "\n",
        "    test_dataset = HARDataset(data=test_images, img_dir=img_dir, transform=transform)\n",
        "    test_loader = DataLoader(test_dataset, batch_size=batch_size, shuffle=shuffle, num_workers=num_workers)\n",
        "    return test_loader\n",
        "\n",
        "\n",
        "def get_test_acc(net):\n",
        "    if torch.cuda.is_available():\n",
        "        net.cuda()\n",
        "\n",
        "    test_loader = test_data_loader()\n",
        "    softmax = nn.Softmax(dim=1)\n",
        "    total_test_acc = 0.0\n",
        "    num_images = 0\n",
        "    for batch in test_loader:\n",
        "        for image, img_class in zip(batch[\"image\"], batch[\"img_class\"]):\n",
        "            num_images += 1\n",
        "            avg_output = torch.zeros((1,15))\n",
        "            if torch.cuda.is_available():\n",
        "                image.cuda()\n",
        "                img_class.cuda()\n",
        "                avg_output.cuda()\n",
        "            for x in range(5):\n",
        "                avg_output += net(image[x].unsqueeze(0))\n",
        "            avg_output /= 5\n",
        "            pred = softmax(avg_output)\n",
        "            total_test_acc += (np.argmax(pred.detach().cpu(), 1) == np.argmax(img_class.unsqueeze(0).cpu(), 1)).sum().item()\n",
        "    return total_test_acc / num_images"
      ],
      "metadata": {
        "id": "X10tzAW1YKeb"
      },
      "execution_count": null,
      "outputs": []
    },
    {
      "cell_type": "code",
      "execution_count": null,
      "metadata": {
        "id": "g8nQQGn7TCbw"
      },
      "outputs": [],
      "source": [
        "train_loader, val_loader = data_loader(batch_size=128)"
      ]
    },
    {
      "cell_type": "markdown",
      "metadata": {
        "id": "EW3XJWIY5GhT"
      },
      "source": [
        "# **VGG 16**"
      ]
    },
    {
      "cell_type": "code",
      "execution_count": null,
      "metadata": {
        "id": "uhvQ45DviNWU"
      },
      "outputs": [],
      "source": [
        "def get_pretrained_model(model_name):\n",
        "\n",
        "    if model_name == 'vgg16':\n",
        "        model = models.vgg16(pretrained=True)\n",
        "\n",
        "        # Freeze early layers\n",
        "        for param in model.parameters():\n",
        "            param.requires_grad = False\n",
        "        n_inputs = model.classifier[6].in_features\n",
        "\n",
        "        # Add on classifier\n",
        "        model.classifier[6] = nn.Sequential(\n",
        "            nn.Linear(n_inputs, 256), nn.ReLU(), nn.Dropout(0.2),\n",
        "            nn.Linear(256, 15))\n",
        "\n",
        "    return model"
      ]
    },
    {
      "cell_type": "code",
      "execution_count": null,
      "metadata": {
        "colab": {
          "base_uri": "https://localhost:8080/"
        },
        "id": "LY6awCmeiy_8",
        "outputId": "bc38ac18-7117-4466-b272-ab26feed047b"
      },
      "outputs": [
        {
          "output_type": "stream",
          "name": "stdout",
          "text": [
            "----------------------------------------------------------------\n",
            "        Layer (type)               Output Shape         Param #\n",
            "================================================================\n",
            "            Conv2d-1        [128, 64, 224, 224]           1,792\n",
            "              ReLU-2        [128, 64, 224, 224]               0\n",
            "            Conv2d-3        [128, 64, 224, 224]          36,928\n",
            "              ReLU-4        [128, 64, 224, 224]               0\n",
            "         MaxPool2d-5        [128, 64, 112, 112]               0\n",
            "            Conv2d-6       [128, 128, 112, 112]          73,856\n",
            "              ReLU-7       [128, 128, 112, 112]               0\n",
            "            Conv2d-8       [128, 128, 112, 112]         147,584\n",
            "              ReLU-9       [128, 128, 112, 112]               0\n",
            "        MaxPool2d-10         [128, 128, 56, 56]               0\n",
            "           Conv2d-11         [128, 256, 56, 56]         295,168\n",
            "             ReLU-12         [128, 256, 56, 56]               0\n",
            "           Conv2d-13         [128, 256, 56, 56]         590,080\n",
            "             ReLU-14         [128, 256, 56, 56]               0\n",
            "           Conv2d-15         [128, 256, 56, 56]         590,080\n",
            "             ReLU-16         [128, 256, 56, 56]               0\n",
            "        MaxPool2d-17         [128, 256, 28, 28]               0\n",
            "           Conv2d-18         [128, 512, 28, 28]       1,180,160\n",
            "             ReLU-19         [128, 512, 28, 28]               0\n",
            "           Conv2d-20         [128, 512, 28, 28]       2,359,808\n",
            "             ReLU-21         [128, 512, 28, 28]               0\n",
            "           Conv2d-22         [128, 512, 28, 28]       2,359,808\n",
            "             ReLU-23         [128, 512, 28, 28]               0\n",
            "        MaxPool2d-24         [128, 512, 14, 14]               0\n",
            "           Conv2d-25         [128, 512, 14, 14]       2,359,808\n",
            "             ReLU-26         [128, 512, 14, 14]               0\n",
            "           Conv2d-27         [128, 512, 14, 14]       2,359,808\n",
            "             ReLU-28         [128, 512, 14, 14]               0\n",
            "           Conv2d-29         [128, 512, 14, 14]       2,359,808\n",
            "             ReLU-30         [128, 512, 14, 14]               0\n",
            "        MaxPool2d-31           [128, 512, 7, 7]               0\n",
            "AdaptiveAvgPool2d-32           [128, 512, 7, 7]               0\n",
            "           Linear-33                [128, 4096]     102,764,544\n",
            "             ReLU-34                [128, 4096]               0\n",
            "          Dropout-35                [128, 4096]               0\n",
            "           Linear-36                [128, 4096]      16,781,312\n",
            "             ReLU-37                [128, 4096]               0\n",
            "          Dropout-38                [128, 4096]               0\n",
            "           Linear-39                 [128, 256]       1,048,832\n",
            "             ReLU-40                 [128, 256]               0\n",
            "          Dropout-41                 [128, 256]               0\n",
            "           Linear-42                  [128, 15]           3,855\n",
            "================================================================\n",
            "Total params: 135,313,231\n",
            "Trainable params: 1,052,687\n",
            "Non-trainable params: 134,260,544\n",
            "----------------------------------------------------------------\n",
            "Input size (MB): 73.50\n",
            "Forward/backward pass size (MB): 28003.76\n",
            "Params size (MB): 516.18\n",
            "Estimated Total Size (MB): 28593.44\n",
            "----------------------------------------------------------------\n"
          ]
        }
      ],
      "source": [
        "from torchsummary import summary\n",
        "model = get_pretrained_model('vgg16')\n",
        "summary(model, input_size=(3, 224, 224), batch_size=128, device='cuda')"
      ]
    },
    {
      "cell_type": "code",
      "execution_count": null,
      "metadata": {
        "colab": {
          "base_uri": "https://localhost:8080/"
        },
        "id": "hvGuRTGdbtvc",
        "outputId": "846fa517-da4b-415d-87d2-c592997fdb65"
      },
      "outputs": [
        {
          "name": "stderr",
          "output_type": "stream",
          "text": [
            "\r  0%|          | 0/5 [00:00<?, ?it/s]"
          ]
        },
        {
          "name": "stdout",
          "output_type": "stream",
          "text": [
            "Epoch 0: Train err: 0.47430555555555554 Val err: 0.3686507936507937 Train loss: 1.468789222874219 Val loss: 1.148471787571907\n"
          ]
        },
        {
          "name": "stderr",
          "output_type": "stream",
          "text": [
            "\r 20%|██        | 1/5 [2:44:57<10:59:48, 9897.19s/it]"
          ]
        },
        {
          "name": "stdout",
          "output_type": "stream",
          "text": [
            "Epoch 1: Train err: 0.3876984126984127 Val err: 0.34246031746031746 Train loss: 1.1820259803458104 Val loss: 1.0846404165029526\n"
          ]
        },
        {
          "name": "stderr",
          "output_type": "stream",
          "text": [
            "\r 40%|████      | 2/5 [4:41:37<6:49:38, 8192.87s/it] "
          ]
        }
      ],
      "source": [
        "\n",
        "train(model, train_loader, val_loader, batch_size=128, lr=0.001, num_epochs=5)"
      ]
    },
    {
      "cell_type": "code",
      "execution_count": null,
      "metadata": {
        "colab": {
          "base_uri": "https://localhost:8080/"
        },
        "id": "TnUmo6G33uTe",
        "outputId": "0dbc498b-44f4-4a10-90c1-3f0ddacd9f78"
      },
      "outputs": [
        {
          "name": "stdout",
          "output_type": "stream",
          "text": [
            "error rate {0: 0.40476190476190477, 1: 0.27976190476190477, 2: 0.38095238095238093, 3: 0.25595238095238093, 4: 0.2976190476190476, 5: 0.35714285714285715, 6: 0.20833333333333334, 7: 0.041666666666666664, 8: 0.8273809523809523, 9: 0.35714285714285715, 10: 0.06547619047619048, 11: 0.24404761904761904, 12: 0.5654761904761905, 13: 0.22023809523809523, 14: 0.6309523809523809}\n"
          ]
        }
      ],
      "source": [
        "model.load_state_dict(torch.load(\"/content/drive/My Drive/Human Action Recognition/vgg_best/bs128_lr0.001_epoch5\", map_location=torch.device('cpu')))\n",
        "error_rate, wrong_guess_rate, guesses = performance_per_class(model)\n",
        "print(\"error rate\", error_rate)"
      ]
    },
    {
      "cell_type": "code",
      "execution_count": null,
      "metadata": {
        "colab": {
          "base_uri": "https://localhost:8080/",
          "height": 1000
        },
        "id": "4Erwr2q_4e11",
        "outputId": "f4d83479-783b-4f8f-85a6-a110bc2b0e35"
      },
      "outputs": [
        {
          "data": {
            "image/png": "[encoded data removed]",
            "text/plain": [
              "<Figure size 432x288 with 1 Axes>"
            ]
          },
          "metadata": {},
          "output_type": "display_data"
        },
        {
          "data": {
            "image/png": "[encoded data removed]",
            "text/plain": [
              "<Figure size 432x288 with 1 Axes>"
            ]
          },
          "metadata": {},
          "output_type": "display_data"
        },
        {
          "data": {
            "image/png": "[encoded data removed]",
            "text/plain": [
              "<Figure size 432x288 with 1 Axes>"
            ]
          },
          "metadata": {},
          "output_type": "display_data"
        }
      ],
      "source": [
        "x = np.array([0,1,2,3,4,5,6,7,8,9,10,11,12,13,14])\n",
        "xtick = [\"sitting\", \"using_laptop\", \"hugging\", \"sleeping\", \"drinking\", \"clapping\", \"dancing\", \"cycling\",\n",
        "  \"calling\", \"laughing\", \"eating\", \"fighting\", \"listening_to_music\", \"running\", \"texting\"]\n",
        "\n",
        "plt.xticks(x, xtick, rotation = 90)\n",
        "plt.plot(x, list(error_rate.values()))\n",
        "plt.title(\"Error rates per class\")\n",
        "plt.xlabel(\"Class\")\n",
        "plt.ylabel(\"Error rate\")\n",
        "plt.show()\n",
        "plt.xticks(x, xtick,rotation = 90)\n",
        "plt.plot(x, list(wrong_guess_rate.values()))\n",
        "plt.title(\"Wrong guess rate per class\")\n",
        "plt.xlabel(\"Class\")\n",
        "plt.ylabel(\"Wrong guess rate\")\n",
        "plt.show()\n",
        "plt.xticks(x, xtick, rotation=90)\n",
        "plt.plot(x, list(guesses.values()))\n",
        "plt.title(\"Guesses per class\")\n",
        "plt.xlabel(\"Class\")\n",
        "plt.ylabel(\"Number of guesses\")\n",
        "plt.show()"
      ]
    },
    {
      "cell_type": "code",
      "source": [
        "model.load_state_dict(torch.load(\"/content/drive/My Drive/Human Action Recognition/vgg_best/bs128_lr0.001_epoch1\", map_location=torch.device('cpu')))\n",
        "test_accuracy = get_test_acc(model)\n",
        "print(f'Test accuracy: {test_accuracy}')"
      ],
      "metadata": {
        "colab": {
          "base_uri": "https://localhost:8080/"
        },
        "id": "44556Nqpaql9",
        "outputId": "55169303-3565-437d-a3cc-c3b215353298"
      },
      "execution_count": null,
      "outputs": [
        {
          "output_type": "stream",
          "name": "stdout",
          "text": [
            "Test accuracy: 0.33653846153846156\n"
          ]
        }
      ]
    }
  ],
  "metadata": {
    "colab": {
      "provenance": []
    },
    "kernelspec": {
      "display_name": "Python 3",
      "name": "python3"
    },
    "language_info": {
      "name": "python"
    }
  },
  "nbformat": 4,
  "nbformat_minor": 0
}